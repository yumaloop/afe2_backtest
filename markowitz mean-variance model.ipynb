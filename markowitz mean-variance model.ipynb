{
 "cells": [
  {
   "cell_type": "markdown",
   "metadata": {},
   "source": [
    "# Markowitzの平均・分散モデル\n",
    "\n",
    "二次計画問題(Quadratic Programming, QP)をCVXOPTを用いて解く．"
   ]
  },
  {
   "cell_type": "code",
   "execution_count": 1,
   "metadata": {},
   "outputs": [],
   "source": [
    "import datetime\n",
    "import numpy as np\n",
    "import pandas as pd\n",
    "import pandas_datareader.data as web\n",
    "import pandas_datareader.stooq as stooq\n",
    "\n",
    "import seaborn as sns\n",
    "import matplotlib.pyplot as plt\n",
    "%matplotlib inline"
   ]
  },
  {
   "cell_type": "code",
   "execution_count": 2,
   "metadata": {},
   "outputs": [],
   "source": [
    "def get_stockvalues_tokyo(stockcode, start, end, use_ratio=False):\n",
    "    # Get index data from https://stooq.com/\n",
    "    df = stooq.StooqDailyReader(f\"{stockcode}.jp\", start, end).read()\n",
    "    df = df.sort_values(by='Date',ascending=True)\n",
    "    \n",
    "    if use_ratio:\n",
    "        df = df.apply(lambda x: (x - x[0]) / x[0] )\n",
    "    return df"
   ]
  },
  {
   "cell_type": "code",
   "execution_count": 3,
   "metadata": {},
   "outputs": [],
   "source": [
    "def get_paneldata_tokyo(stockcodes, start, end, use_ratio=False):\n",
    "    dfs=[]\n",
    "    for sc in stockcodes:\n",
    "        df = get_stockvalues_tokyo(sc, start, end, use_ratio)[['Close']]\n",
    "        df = df.rename(columns={'Close': sc})\n",
    "        dfs.append(df)\n",
    "    df_concat = pd.concat(dfs, axis=1)\n",
    "    return df_concat"
   ]
  },
  {
   "cell_type": "markdown",
   "metadata": {},
   "source": [
    "TOPIX 500の全銘柄\n",
    "\n",
    "https://www.jpx.co.jp/files/tse/news/17/b7gje6000002vm4e-att/meigara-201210-j.pdf"
   ]
  },
  {
   "cell_type": "code",
   "execution_count": 4,
   "metadata": {
    "scrolled": true
   },
   "outputs": [
    {
     "data": {
      "text/html": [
       "<div>\n",
       "<style scoped>\n",
       "    .dataframe tbody tr th:only-of-type {\n",
       "        vertical-align: middle;\n",
       "    }\n",
       "\n",
       "    .dataframe tbody tr th {\n",
       "        vertical-align: top;\n",
       "    }\n",
       "\n",
       "    .dataframe thead th {\n",
       "        text-align: right;\n",
       "    }\n",
       "</style>\n",
       "<table border=\"1\" class=\"dataframe\">\n",
       "  <thead>\n",
       "    <tr style=\"text-align: right;\">\n",
       "      <th></th>\n",
       "      <th>1301</th>\n",
       "      <th>1762</th>\n",
       "      <th>1820</th>\n",
       "      <th>1967</th>\n",
       "      <th>2127</th>\n",
       "    </tr>\n",
       "    <tr>\n",
       "      <th>Date</th>\n",
       "      <th></th>\n",
       "      <th></th>\n",
       "      <th></th>\n",
       "      <th></th>\n",
       "      <th></th>\n",
       "    </tr>\n",
       "  </thead>\n",
       "  <tbody>\n",
       "    <tr>\n",
       "      <th>2015-01-05</th>\n",
       "      <td>0.000000</td>\n",
       "      <td>0.000000</td>\n",
       "      <td>0.000000</td>\n",
       "      <td>0.000000</td>\n",
       "      <td>0.000000</td>\n",
       "    </tr>\n",
       "    <tr>\n",
       "      <th>2015-01-06</th>\n",
       "      <td>-0.010929</td>\n",
       "      <td>-0.018385</td>\n",
       "      <td>-0.033937</td>\n",
       "      <td>-0.002265</td>\n",
       "      <td>-0.038448</td>\n",
       "    </tr>\n",
       "    <tr>\n",
       "      <th>2015-01-07</th>\n",
       "      <td>-0.014564</td>\n",
       "      <td>-0.020433</td>\n",
       "      <td>-0.059863</td>\n",
       "      <td>-0.013823</td>\n",
       "      <td>-0.059680</td>\n",
       "    </tr>\n",
       "    <tr>\n",
       "      <th>2015-01-08</th>\n",
       "      <td>-0.007302</td>\n",
       "      <td>-0.016338</td>\n",
       "      <td>-0.057883</td>\n",
       "      <td>-0.013823</td>\n",
       "      <td>-0.039787</td>\n",
       "    </tr>\n",
       "    <tr>\n",
       "      <th>2015-01-09</th>\n",
       "      <td>0.000000</td>\n",
       "      <td>-0.004490</td>\n",
       "      <td>-0.031938</td>\n",
       "      <td>-0.025407</td>\n",
       "      <td>-0.043770</td>\n",
       "    </tr>\n",
       "    <tr>\n",
       "      <th>...</th>\n",
       "      <td>...</td>\n",
       "      <td>...</td>\n",
       "      <td>...</td>\n",
       "      <td>...</td>\n",
       "      <td>...</td>\n",
       "    </tr>\n",
       "    <tr>\n",
       "      <th>2020-10-29</th>\n",
       "      <td>0.096138</td>\n",
       "      <td>-0.032923</td>\n",
       "      <td>-0.030777</td>\n",
       "      <td>0.858573</td>\n",
       "      <td>5.682321</td>\n",
       "    </tr>\n",
       "    <tr>\n",
       "      <th>2020-10-30</th>\n",
       "      <td>0.093336</td>\n",
       "      <td>-0.039657</td>\n",
       "      <td>-0.041199</td>\n",
       "      <td>0.832831</td>\n",
       "      <td>5.704266</td>\n",
       "    </tr>\n",
       "    <tr>\n",
       "      <th>2020-11-02</th>\n",
       "      <td>0.107748</td>\n",
       "      <td>-0.026188</td>\n",
       "      <td>-0.032198</td>\n",
       "      <td>0.845702</td>\n",
       "      <td>5.418978</td>\n",
       "    </tr>\n",
       "    <tr>\n",
       "      <th>2020-11-04</th>\n",
       "      <td>0.099341</td>\n",
       "      <td>-0.024392</td>\n",
       "      <td>-0.020829</td>\n",
       "      <td>0.858573</td>\n",
       "      <td>5.704266</td>\n",
       "    </tr>\n",
       "    <tr>\n",
       "      <th>2020-11-05</th>\n",
       "      <td>0.069315</td>\n",
       "      <td>-0.014964</td>\n",
       "      <td>-0.042147</td>\n",
       "      <td>0.904909</td>\n",
       "      <td>6.055390</td>\n",
       "    </tr>\n",
       "  </tbody>\n",
       "</table>\n",
       "<p>1425 rows × 5 columns</p>\n",
       "</div>"
      ],
      "text/plain": [
       "                1301      1762      1820      1967      2127\n",
       "Date                                                        \n",
       "2015-01-05  0.000000  0.000000  0.000000  0.000000  0.000000\n",
       "2015-01-06 -0.010929 -0.018385 -0.033937 -0.002265 -0.038448\n",
       "2015-01-07 -0.014564 -0.020433 -0.059863 -0.013823 -0.059680\n",
       "2015-01-08 -0.007302 -0.016338 -0.057883 -0.013823 -0.039787\n",
       "2015-01-09  0.000000 -0.004490 -0.031938 -0.025407 -0.043770\n",
       "...              ...       ...       ...       ...       ...\n",
       "2020-10-29  0.096138 -0.032923 -0.030777  0.858573  5.682321\n",
       "2020-10-30  0.093336 -0.039657 -0.041199  0.832831  5.704266\n",
       "2020-11-02  0.107748 -0.026188 -0.032198  0.845702  5.418978\n",
       "2020-11-04  0.099341 -0.024392 -0.020829  0.858573  5.704266\n",
       "2020-11-05  0.069315 -0.014964 -0.042147  0.904909  6.055390\n",
       "\n",
       "[1425 rows x 5 columns]"
      ]
     },
     "execution_count": 4,
     "metadata": {},
     "output_type": "execute_result"
    }
   ],
   "source": [
    "start = datetime.datetime(2015, 1, 1)\n",
    "end = datetime.datetime(2020, 11, 30)\n",
    "stockcodes=[\"1301\", \"1762\", \"1820\", \"1967\", \"2127\"]\n",
    "\n",
    "df = get_paneldata_tokyo(stockcodes, start, end, use_ratio=True)\n",
    "df"
   ]
  },
  {
   "cell_type": "code",
   "execution_count": 5,
   "metadata": {},
   "outputs": [
    {
     "data": {
      "text/html": [
       "<div>\n",
       "<style scoped>\n",
       "    .dataframe tbody tr th:only-of-type {\n",
       "        vertical-align: middle;\n",
       "    }\n",
       "\n",
       "    .dataframe tbody tr th {\n",
       "        vertical-align: top;\n",
       "    }\n",
       "\n",
       "    .dataframe thead th {\n",
       "        text-align: right;\n",
       "    }\n",
       "</style>\n",
       "<table border=\"1\" class=\"dataframe\">\n",
       "  <thead>\n",
       "    <tr style=\"text-align: right;\">\n",
       "      <th></th>\n",
       "      <th>1301</th>\n",
       "      <th>1762</th>\n",
       "      <th>1820</th>\n",
       "      <th>1967</th>\n",
       "      <th>2127</th>\n",
       "    </tr>\n",
       "  </thead>\n",
       "  <tbody>\n",
       "    <tr>\n",
       "      <th>1301</th>\n",
       "      <td>0.024211</td>\n",
       "      <td>0.015340</td>\n",
       "      <td>0.018243</td>\n",
       "      <td>0.037772</td>\n",
       "      <td>0.081221</td>\n",
       "    </tr>\n",
       "    <tr>\n",
       "      <th>1762</th>\n",
       "      <td>0.015340</td>\n",
       "      <td>0.014867</td>\n",
       "      <td>0.015562</td>\n",
       "      <td>0.023735</td>\n",
       "      <td>0.038868</td>\n",
       "    </tr>\n",
       "    <tr>\n",
       "      <th>1820</th>\n",
       "      <td>0.018243</td>\n",
       "      <td>0.015562</td>\n",
       "      <td>0.025023</td>\n",
       "      <td>0.029918</td>\n",
       "      <td>0.040811</td>\n",
       "    </tr>\n",
       "    <tr>\n",
       "      <th>1967</th>\n",
       "      <td>0.037772</td>\n",
       "      <td>0.023735</td>\n",
       "      <td>0.029918</td>\n",
       "      <td>0.109754</td>\n",
       "      <td>0.312827</td>\n",
       "    </tr>\n",
       "    <tr>\n",
       "      <th>2127</th>\n",
       "      <td>0.081221</td>\n",
       "      <td>0.038868</td>\n",
       "      <td>0.040811</td>\n",
       "      <td>0.312827</td>\n",
       "      <td>1.703412</td>\n",
       "    </tr>\n",
       "  </tbody>\n",
       "</table>\n",
       "</div>"
      ],
      "text/plain": [
       "          1301      1762      1820      1967      2127\n",
       "1301  0.024211  0.015340  0.018243  0.037772  0.081221\n",
       "1762  0.015340  0.014867  0.015562  0.023735  0.038868\n",
       "1820  0.018243  0.015562  0.025023  0.029918  0.040811\n",
       "1967  0.037772  0.023735  0.029918  0.109754  0.312827\n",
       "2127  0.081221  0.038868  0.040811  0.312827  1.703412"
      ]
     },
     "execution_count": 5,
     "metadata": {},
     "output_type": "execute_result"
    }
   ],
   "source": [
    "# Covariance matrix\n",
    "df.cov()"
   ]
  },
  {
   "cell_type": "code",
   "execution_count": 6,
   "metadata": {},
   "outputs": [
    {
     "data": {
      "text/plain": [
       "array([0.12547322, 0.10879767, 0.07469455, 0.44782516, 1.75209493])"
      ]
     },
     "execution_count": 6,
     "metadata": {},
     "output_type": "execute_result"
    }
   ],
   "source": [
    "# expected returns\n",
    "df.mean().values"
   ]
  },
  {
   "cell_type": "markdown",
   "metadata": {},
   "source": [
    "*Markowitzの平均・分散モデル\n",
    "\n",
    "- $\\Sigma  \\in \\mathbb{R}^{n \\times n}$: 共分散行列\n",
    "- $r  \\in \\mathbb{R}^{n}$: 期待収益率ベクトル\n",
    "- $r_i \\in \\mathbb{R}$: 資産$i$の期待収益率\n",
    "- $r_e \\in \\mathbb{R}$: 投資家の要求期待収益率\n",
    "- $x \\in \\mathbb{R}^{n}$: 投資比率ベクトル\n",
    "- $x_i \\in \\mathbb{R}$: 資産$i$の投資比率\n",
    "\n",
    "\n",
    "$$\n",
    "\\begin{align}\n",
    "{\\rm min} ~~~ x^T \\Sigma x \\\\\n",
    "{\\rm s.t.} ~~~ r^T x \\geq r_e \\\\\n",
    "{\\| x \\|}_{1} = 1 \\\\\n",
    "x_i \\geq 0\n",
    "\\end{align}\n",
    "$$"
   ]
  },
  {
   "cell_type": "markdown",
   "metadata": {},
   "source": [
    "*二次錐計画問題\n",
    "\n",
    "![img0](https://cdn-ak.f.st-hatena.com/images/fotolife/m/meison_amsl/20161016/20161016122314.png)\n",
    "\n",
    "\n",
    "参考:\n",
    "- https://cvxopt.org/userguide/coneprog.html\n",
    "- https://qiita.com/ryoshi81/items/8b0c6add3e367f94c828"
   ]
  },
  {
   "cell_type": "code",
   "execution_count": 7,
   "metadata": {},
   "outputs": [],
   "source": [
    "import cvxopt\n",
    "\n",
    "def cvxopt_qp_solver(r, r_e, cov):\n",
    "    P = cvxopt.matrix((1/2) * cov)\n",
    "    q = cvxopt.matrix(np.zeros(len(r)))\n",
    "    G = cvxopt.matrix(-1.0 * np.diag(r))\n",
    "    h = cvxopt.matrix(-1.0 * r_e)\n",
    "    A = cvxopt.matrix(1.0, (1, len(r)))\n",
    "    b = cvxopt.matrix(1.0)\n",
    "    sol=cvxopt.solvers.qp(P,q,G,h,A,b)\n",
    "    return sol"
   ]
  },
  {
   "cell_type": "code",
   "execution_count": 8,
   "metadata": {},
   "outputs": [
    {
     "name": "stdout",
     "output_type": "stream",
     "text": [
      "     pcost       dcost       gap    pres   dres\n",
      " 0:  4.3680e-03 -8.6883e-02  5e+00  2e+00  2e+00\n",
      " 1:  9.1180e-02 -2.2275e-01  5e-01  1e-01  1e-01\n",
      " 2:  2.1337e-02 -6.0274e-02  8e-02  2e-16  1e-16\n",
      " 3:  1.0483e-02 -1.7810e-03  1e-02  1e-16  3e-17\n",
      " 4:  4.9857e-03  1.5180e-03  3e-03  2e-16  8e-18\n",
      " 5:  4.0217e-03  3.6059e-03  4e-04  3e-17  1e-17\n",
      " 6:  3.7560e-03  3.7107e-03  5e-05  3e-17  1e-18\n",
      " 7:  3.7187e-03  3.7168e-03  2e-06  1e-17  4e-18\n",
      " 8:  3.7169e-03  3.7168e-03  2e-08  1e-16  6e-18\n",
      "Optimal solution found.\n",
      "[ 5.56e-05]\n",
      "[ 1.00e+00]\n",
      "[ 1.76e-05]\n",
      "[ 3.84e-07]\n",
      "[ 2.63e-07]\n",
      "\n",
      "total return:  0.003716866155475511\n"
     ]
    }
   ],
   "source": [
    "r = df.mean().values\n",
    "r_e = np.zeros(df.mean().values.shape)\n",
    "cov = np.array(df.cov())\n",
    "\n",
    "sol = cvxopt_qp_solver(r, r_e, cov)\n",
    "print(sol[\"x\"])\n",
    "print(\"total return: \", sol[\"primal objective\"])"
   ]
  },
  {
   "cell_type": "code",
   "execution_count": null,
   "metadata": {},
   "outputs": [],
   "source": []
  }
 ],
 "metadata": {
  "kernelspec": {
   "display_name": "Python 3",
   "language": "python",
   "name": "python3"
  },
  "language_info": {
   "codemirror_mode": {
    "name": "ipython",
    "version": 3
   },
   "file_extension": ".py",
   "mimetype": "text/x-python",
   "name": "python",
   "nbconvert_exporter": "python",
   "pygments_lexer": "ipython3",
   "version": "3.8.4"
  }
 },
 "nbformat": 4,
 "nbformat_minor": 4
}
