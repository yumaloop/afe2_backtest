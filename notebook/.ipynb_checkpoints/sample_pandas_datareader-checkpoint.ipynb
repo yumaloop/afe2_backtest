{
 "cells": [
  {
   "cell_type": "code",
   "execution_count": 1,
   "metadata": {},
   "outputs": [],
   "source": [
    "import datetime\n",
    "import pandas as pd\n",
    "import pandas_datareader.data as web\n",
    "import pandas_datareader.stooq as stooq\n",
    "\n",
    "import matplotlib.pyplot as plt\n",
    "%matplotlib inline"
   ]
  },
  {
   "cell_type": "code",
   "execution_count": 2,
   "metadata": {},
   "outputs": [
    {
     "data": {
      "text/html": [
       "<div>\n",
       "<style scoped>\n",
       "    .dataframe tbody tr th:only-of-type {\n",
       "        vertical-align: middle;\n",
       "    }\n",
       "\n",
       "    .dataframe tbody tr th {\n",
       "        vertical-align: top;\n",
       "    }\n",
       "\n",
       "    .dataframe thead th {\n",
       "        text-align: right;\n",
       "    }\n",
       "</style>\n",
       "<table border=\"1\" class=\"dataframe\">\n",
       "  <thead>\n",
       "    <tr style=\"text-align: right;\">\n",
       "      <th></th>\n",
       "      <th>Open</th>\n",
       "      <th>High</th>\n",
       "      <th>Low</th>\n",
       "      <th>Close</th>\n",
       "      <th>Volume</th>\n",
       "    </tr>\n",
       "    <tr>\n",
       "      <th>Date</th>\n",
       "      <th></th>\n",
       "      <th></th>\n",
       "      <th></th>\n",
       "      <th></th>\n",
       "      <th></th>\n",
       "    </tr>\n",
       "  </thead>\n",
       "  <tbody>\n",
       "    <tr>\n",
       "      <th>2015-01-05</th>\n",
       "      <td>6756.50</td>\n",
       "      <td>6765.42</td>\n",
       "      <td>6623.43</td>\n",
       "      <td>6704.69</td>\n",
       "      <td>10653925</td>\n",
       "    </tr>\n",
       "    <tr>\n",
       "      <th>2015-01-06</th>\n",
       "      <td>6539.48</td>\n",
       "      <td>6601.09</td>\n",
       "      <td>6519.83</td>\n",
       "      <td>6519.83</td>\n",
       "      <td>13870266</td>\n",
       "    </tr>\n",
       "    <tr>\n",
       "      <th>2015-01-07</th>\n",
       "      <td>6480.52</td>\n",
       "      <td>6685.05</td>\n",
       "      <td>6479.64</td>\n",
       "      <td>6615.40</td>\n",
       "      <td>12837377</td>\n",
       "    </tr>\n",
       "    <tr>\n",
       "      <th>2015-01-08</th>\n",
       "      <td>6698.46</td>\n",
       "      <td>6748.46</td>\n",
       "      <td>6693.98</td>\n",
       "      <td>6746.69</td>\n",
       "      <td>11257646</td>\n",
       "    </tr>\n",
       "    <tr>\n",
       "      <th>2015-01-09</th>\n",
       "      <td>6814.56</td>\n",
       "      <td>6846.70</td>\n",
       "      <td>6752.92</td>\n",
       "      <td>6795.80</td>\n",
       "      <td>11672928</td>\n",
       "    </tr>\n",
       "    <tr>\n",
       "      <th>...</th>\n",
       "      <td>...</td>\n",
       "      <td>...</td>\n",
       "      <td>...</td>\n",
       "      <td>...</td>\n",
       "      <td>...</td>\n",
       "    </tr>\n",
       "    <tr>\n",
       "      <th>2020-11-05</th>\n",
       "      <td>6955.00</td>\n",
       "      <td>7032.00</td>\n",
       "      <td>6923.00</td>\n",
       "      <td>6984.00</td>\n",
       "      <td>5643400</td>\n",
       "    </tr>\n",
       "    <tr>\n",
       "      <th>2020-11-06</th>\n",
       "      <td>7070.00</td>\n",
       "      <td>7152.00</td>\n",
       "      <td>7015.00</td>\n",
       "      <td>7019.00</td>\n",
       "      <td>11092900</td>\n",
       "    </tr>\n",
       "    <tr>\n",
       "      <th>2020-11-09</th>\n",
       "      <td>7159.00</td>\n",
       "      <td>7242.00</td>\n",
       "      <td>7119.00</td>\n",
       "      <td>7173.00</td>\n",
       "      <td>7838600</td>\n",
       "    </tr>\n",
       "    <tr>\n",
       "      <th>2020-11-10</th>\n",
       "      <td>7320.00</td>\n",
       "      <td>7360.00</td>\n",
       "      <td>7212.00</td>\n",
       "      <td>7267.00</td>\n",
       "      <td>8825700</td>\n",
       "    </tr>\n",
       "    <tr>\n",
       "      <th>2020-11-11</th>\n",
       "      <td>7390.00</td>\n",
       "      <td>7503.00</td>\n",
       "      <td>7369.00</td>\n",
       "      <td>7503.00</td>\n",
       "      <td>10075300</td>\n",
       "    </tr>\n",
       "  </tbody>\n",
       "</table>\n",
       "<p>1429 rows × 5 columns</p>\n",
       "</div>"
      ],
      "text/plain": [
       "               Open     High      Low    Close    Volume\n",
       "Date                                                    \n",
       "2015-01-05  6756.50  6765.42  6623.43  6704.69  10653925\n",
       "2015-01-06  6539.48  6601.09  6519.83  6519.83  13870266\n",
       "2015-01-07  6480.52  6685.05  6479.64  6615.40  12837377\n",
       "2015-01-08  6698.46  6748.46  6693.98  6746.69  11257646\n",
       "2015-01-09  6814.56  6846.70  6752.92  6795.80  11672928\n",
       "...             ...      ...      ...      ...       ...\n",
       "2020-11-05  6955.00  7032.00  6923.00  6984.00   5643400\n",
       "2020-11-06  7070.00  7152.00  7015.00  7019.00  11092900\n",
       "2020-11-09  7159.00  7242.00  7119.00  7173.00   7838600\n",
       "2020-11-10  7320.00  7360.00  7212.00  7267.00   8825700\n",
       "2020-11-11  7390.00  7503.00  7369.00  7503.00  10075300\n",
       "\n",
       "[1429 rows x 5 columns]"
      ]
     },
     "metadata": {},
     "output_type": "display_data"
    }
   ],
   "source": [
    "# Get index data from https://stooq.com/\n",
    "stockcode=\"7203\" # Tokyo stock market\n",
    "start = datetime.datetime(2015, 1, 1)\n",
    "end = datetime.datetime(2020, 11, 30)\n",
    "\n",
    "# Dataframe\n",
    "df = stooq.StooqDailyReader(f\"{stockcode}.jp\", start, end).read()\n",
    "df = df.sort_values(by='Date',ascending=True)\n",
    "display(df)"
   ]
  },
  {
   "cell_type": "code",
   "execution_count": 3,
   "metadata": {},
   "outputs": [
    {
     "data": {
      "image/png": "[encoded data removed]",
      "text/plain": [
       "<Figure size 576x288 with 1 Axes>"
      ]
     },
     "metadata": {
      "needs_background": "light"
     },
     "output_type": "display_data"
    }
   ],
   "source": [
    "# Plot series\n",
    "plt.figure(figsize=(8,4))\n",
    "plt.plot(df.index, df[\"Close\"].values, label=\"Close\")\n",
    "plt.legend()\n",
    "plt.show()"
   ]
  },
  {
   "cell_type": "code",
   "execution_count": 4,
   "metadata": {},
   "outputs": [
    {
     "data": {
      "image/png": "[encoded data removed]",
      "text/plain": [
       "<Figure size 576x288 with 1 Axes>"
      ]
     },
     "metadata": {
      "needs_background": "light"
     },
     "output_type": "display_data"
    }
   ],
   "source": [
    "# Plot series\n",
    "plt.figure(figsize=(8,4))\n",
    "plt.bar(df.index, df[\"Volume\"].values, label=\"Volume\", color=\"orange\")\n",
    "plt.legend()\n",
    "plt.show()"
   ]
  }
 ],
 "metadata": {
  "kernelspec": {
   "display_name": "Python 3",
   "language": "python",
   "name": "python3"
  },
  "language_info": {
   "codemirror_mode": {
    "name": "ipython",
    "version": 3
   },
   "file_extension": ".py",
   "mimetype": "text/x-python",
   "name": "python",
   "nbconvert_exporter": "python",
   "pygments_lexer": "ipython3",
   "version": "3.8.2"
  }
 },
 "nbformat": 4,
 "nbformat_minor": 4
}
