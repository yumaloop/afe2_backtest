{
 "cells": [
  {
   "cell_type": "code",
   "execution_count": 1,
   "metadata": {},
   "outputs": [],
   "source": [
    "import datetime\n",
    "import pandas as pd\n",
    "import pandas_datareader.data as web\n",
    "import pandas_datareader.stooq as stooq\n",
    "\n",
    "import matplotlib.pyplot as plt\n",
    "%matplotlib inline"
   ]
  },
  {
   "cell_type": "code",
   "execution_count": 2,
   "metadata": {},
   "outputs": [
    {
     "data": {
      "text/html": [
       "<div>\n",
       "<style scoped>\n",
       "    .dataframe tbody tr th:only-of-type {\n",
       "        vertical-align: middle;\n",
       "    }\n",
       "\n",
       "    .dataframe tbody tr th {\n",
       "        vertical-align: top;\n",
       "    }\n",
       "\n",
       "    .dataframe thead th {\n",
       "        text-align: right;\n",
       "    }\n",
       "</style>\n",
       "<table border=\"1\" class=\"dataframe\">\n",
       "  <thead>\n",
       "    <tr style=\"text-align: right;\">\n",
       "      <th></th>\n",
       "      <th>Open</th>\n",
       "      <th>High</th>\n",
       "      <th>Low</th>\n",
       "      <th>Close</th>\n",
       "      <th>Volume</th>\n",
       "    </tr>\n",
       "    <tr>\n",
       "      <th>Date</th>\n",
       "      <th></th>\n",
       "      <th></th>\n",
       "      <th></th>\n",
       "      <th></th>\n",
       "      <th></th>\n",
       "    </tr>\n",
       "  </thead>\n",
       "  <tbody>\n",
       "    <tr>\n",
       "      <th>2015-01-05</th>\n",
       "      <td>3195.15</td>\n",
       "      <td>3231.55</td>\n",
       "      <td>3167.89</td>\n",
       "      <td>3204.27</td>\n",
       "      <td>1285721</td>\n",
       "    </tr>\n",
       "    <tr>\n",
       "      <th>2015-01-06</th>\n",
       "      <td>3140.52</td>\n",
       "      <td>3149.64</td>\n",
       "      <td>3104.21</td>\n",
       "      <td>3113.24</td>\n",
       "      <td>2467961</td>\n",
       "    </tr>\n",
       "    <tr>\n",
       "      <th>2015-01-07</th>\n",
       "      <td>3095.09</td>\n",
       "      <td>3122.36</td>\n",
       "      <td>3067.71</td>\n",
       "      <td>3085.96</td>\n",
       "      <td>2094900</td>\n",
       "    </tr>\n",
       "    <tr>\n",
       "      <th>2015-01-08</th>\n",
       "      <td>3122.36</td>\n",
       "      <td>3186.12</td>\n",
       "      <td>3095.09</td>\n",
       "      <td>3149.64</td>\n",
       "      <td>2159494</td>\n",
       "    </tr>\n",
       "    <tr>\n",
       "      <th>2015-01-09</th>\n",
       "      <td>3158.76</td>\n",
       "      <td>3177.01</td>\n",
       "      <td>3085.96</td>\n",
       "      <td>3122.36</td>\n",
       "      <td>2255065</td>\n",
       "    </tr>\n",
       "    <tr>\n",
       "      <th>...</th>\n",
       "      <td>...</td>\n",
       "      <td>...</td>\n",
       "      <td>...</td>\n",
       "      <td>...</td>\n",
       "      <td>...</td>\n",
       "    </tr>\n",
       "    <tr>\n",
       "      <th>2020-10-28</th>\n",
       "      <td>5520.00</td>\n",
       "      <td>5590.00</td>\n",
       "      <td>5460.00</td>\n",
       "      <td>5500.00</td>\n",
       "      <td>2646900</td>\n",
       "    </tr>\n",
       "    <tr>\n",
       "      <th>2020-10-29</th>\n",
       "      <td>5350.00</td>\n",
       "      <td>5560.00</td>\n",
       "      <td>5330.00</td>\n",
       "      <td>5500.00</td>\n",
       "      <td>1922700</td>\n",
       "    </tr>\n",
       "    <tr>\n",
       "      <th>2020-10-30</th>\n",
       "      <td>5350.00</td>\n",
       "      <td>5440.00</td>\n",
       "      <td>5230.00</td>\n",
       "      <td>5250.00</td>\n",
       "      <td>3593100</td>\n",
       "    </tr>\n",
       "    <tr>\n",
       "      <th>2020-11-02</th>\n",
       "      <td>5250.00</td>\n",
       "      <td>5340.00</td>\n",
       "      <td>5180.00</td>\n",
       "      <td>5230.00</td>\n",
       "      <td>1855300</td>\n",
       "    </tr>\n",
       "    <tr>\n",
       "      <th>2020-11-04</th>\n",
       "      <td>5280.00</td>\n",
       "      <td>5450.00</td>\n",
       "      <td>5240.00</td>\n",
       "      <td>5420.00</td>\n",
       "      <td>2242100</td>\n",
       "    </tr>\n",
       "  </tbody>\n",
       "</table>\n",
       "<p>1424 rows × 5 columns</p>\n",
       "</div>"
      ],
      "text/plain": [
       "               Open     High      Low    Close   Volume\n",
       "Date                                                   \n",
       "2015-01-05  3195.15  3231.55  3167.89  3204.27  1285721\n",
       "2015-01-06  3140.52  3149.64  3104.21  3113.24  2467961\n",
       "2015-01-07  3095.09  3122.36  3067.71  3085.96  2094900\n",
       "2015-01-08  3122.36  3186.12  3095.09  3149.64  2159494\n",
       "2015-01-09  3158.76  3177.01  3085.96  3122.36  2255065\n",
       "...             ...      ...      ...      ...      ...\n",
       "2020-10-28  5520.00  5590.00  5460.00  5500.00  2646900\n",
       "2020-10-29  5350.00  5560.00  5330.00  5500.00  1922700\n",
       "2020-10-30  5350.00  5440.00  5230.00  5250.00  3593100\n",
       "2020-11-02  5250.00  5340.00  5180.00  5230.00  1855300\n",
       "2020-11-04  5280.00  5450.00  5240.00  5420.00  2242100\n",
       "\n",
       "[1424 rows x 5 columns]"
      ]
     },
     "metadata": {},
     "output_type": "display_data"
    }
   ],
   "source": [
    "# Get index data from https://stooq.com/\n",
    "stockcode=\"6701\" # Tokyo stock market\n",
    "start = datetime.datetime(2015, 1, 1)\n",
    "end = datetime.datetime(2020, 11, 30)\n",
    "\n",
    "# Dataframe\n",
    "df = stooq.StooqDailyReader(f\"{stockcode}.jp\", start, end).read()\n",
    "df = df.sort_values(by='Date',ascending=True)\n",
    "display(df)"
   ]
  },
  {
   "cell_type": "code",
   "execution_count": 3,
   "metadata": {},
   "outputs": [
    {
     "data": {
      "image/png": "[encoded data removed]",
      "text/plain": [
       "<Figure size 576x288 with 1 Axes>"
      ]
     },
     "metadata": {
      "needs_background": "light"
     },
     "output_type": "display_data"
    }
   ],
   "source": [
    "# Plot series\n",
    "plt.figure(figsize=(8,4))\n",
    "plt.plot(df.index, df[\"Close\"].values, label=\"Close\")\n",
    "plt.legend()\n",
    "plt.show()"
   ]
  },
  {
   "cell_type": "code",
   "execution_count": 4,
   "metadata": {},
   "outputs": [
    {
     "data": {
      "image/png": "[encoded data removed]",
      "text/plain": [
       "<Figure size 576x288 with 1 Axes>"
      ]
     },
     "metadata": {
      "needs_background": "light"
     },
     "output_type": "display_data"
    }
   ],
   "source": [
    "# Plot series\n",
    "plt.figure(figsize=(8,4))\n",
    "plt.bar(df.index, df[\"Volume\"].values, label=\"Volume\", color=\"orange\")\n",
    "plt.legend()\n",
    "plt.show()"
   ]
  }
 ],
 "metadata": {
  "kernelspec": {
   "display_name": "Python 3",
   "language": "python",
   "name": "python3"
  },
  "language_info": {
   "codemirror_mode": {
    "name": "ipython",
    "version": 3
   },
   "file_extension": ".py",
   "mimetype": "text/x-python",
   "name": "python",
   "nbconvert_exporter": "python",
   "pygments_lexer": "ipython3",
   "version": "3.8.2"
  }
 },
 "nbformat": 4,
 "nbformat_minor": 4
}
